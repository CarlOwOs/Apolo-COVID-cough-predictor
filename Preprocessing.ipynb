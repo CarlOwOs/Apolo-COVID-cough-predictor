{
 "cells": [
  {
   "cell_type": "code",
   "execution_count": null,
   "metadata": {},
   "outputs": [],
   "source": [
    "import numpy as np\n",
    "import torch\n",
    "import torch.nn as nn\n",
    "import torch.nn.functional as F\n",
    "import torch.optim as optim\n",
    "import torchaudio\n",
    "import torchvision \n",
    "from tqdm import tqdm\n",
    "from torch.utils.data import DataLoader\n",
    "import matplotlib.pyplot as plt\n",
    "import os\n",
    "\n",
    "device = 'cpu'\n",
    "if torch.cuda.is_available():\n",
    "  device = 'cuda'\n",
    "  torch.cuda.manual_seed_all(1)"
   ]
  },
  {
   "cell_type": "markdown",
   "metadata": {},
   "source": [
    "# Preprocessing"
   ]
  },
  {
   "cell_type": "code",
   "execution_count": null,
   "metadata": {},
   "outputs": [],
   "source": [
    "!mkdir specgrams\n",
    "!mkdir specgrams/TRAIN\n",
    "!mkdir specgrams/TRAIN/Cough\n",
    "!mkdir specgrams/TRAIN/No_Cough\n",
    "!mkdir specgrams/TEST\n",
    "!mkdir specgrams/TEST/Cough\n",
    "!mkdir specgrams/TEST/No_Cough"
   ]
  },
  {
   "cell_type": "code",
   "execution_count": null,
   "metadata": {},
   "outputs": [],
   "source": [
    "def wave_to_specgram(folder_path):    \n",
    "    file_list = os.listdir(folder_path)\n",
    "    dataset = torch.empty(1)\n",
    "    for file in file_list:\n",
    "        if file != '.DS_Store':\n",
    "            waveform, sample_rate = torchaudio.load(folder_path+'/'+file)\n",
    "            specgram = torchaudio.transforms.Spectrogram()(waveform)\n",
    "            specgram_resize = torchvision.transforms.Scale((224,224))(specgram)\n",
    "            plt.figure(frameon=False)\n",
    "            plt.axis('off')\n",
    "            plt.imshow(specgram_resize.log2()[0,:,:].numpy(), cmap='gray')\n",
    "            plt.savefig('./specgrams/'+folder_path.split('/')[-2]+'/'+folder_path.split('/')[-1]+'/'+file.strip('.wav')+'.png')\n",
    "            plt.close()"
   ]
  },
  {
   "cell_type": "code",
   "execution_count": null,
   "metadata": {},
   "outputs": [],
   "source": [
    "train_cough_dir = './Cough_dataset/Unlabeled_audio/TRAIN/Cough'\n",
    "train_nocough_dir = './Cough_dataset/Unlabeled_audio/TRAIN/No_Cough'\n",
    "test_cough_dir = './Cough_dataset/Unlabeled_audio/TEST/Cough'\n",
    "test_nocough_dir = './Cough_dataset/Unlabeled_audio/TEST/No_Cough'\n",
    "\n",
    "wave_to_specgram(train_cough_dir)\n",
    "wave_to_specgram(train_nocough_dir)\n",
    "wave_to_specgram(test_cough_dir)\n",
    "wave_to_specgram(test_nocough_dir)"
   ]
  },
  {
   "cell_type": "code",
   "execution_count": null,
   "metadata": {},
   "outputs": [],
   "source": [
    "print('total training cough files:', len(os.listdir(train_cough_dir)))\n",
    "print('total training nocough files:', len(os.listdir(train_nocough_dir)))\n",
    "print('total validation cough files:', len(os.listdir(test_cough_dir)))\n",
    "print('total validation nocough files:', len(os.listdir(test_nocough_dir)))"
   ]
  }
 ],
 "metadata": {
  "kernelspec": {
   "display_name": "Python 3",
   "language": "python",
   "name": "python3"
  },
  "language_info": {
   "codemirror_mode": {
    "name": "ipython",
    "version": 3
   },
   "file_extension": ".py",
   "mimetype": "text/x-python",
   "name": "python",
   "nbconvert_exporter": "python",
   "pygments_lexer": "ipython3",
   "version": "3.7.4"
  }
 },
 "nbformat": 4,
 "nbformat_minor": 2
}
