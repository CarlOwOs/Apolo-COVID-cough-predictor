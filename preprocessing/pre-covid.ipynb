{
 "cells": [
  {
   "cell_type": "code",
   "execution_count": 1,
   "metadata": {},
   "outputs": [
    {
     "name": "stderr",
     "output_type": "stream",
     "text": [
      "/Users/Carlos/Documents/Anaconda/anaconda3/lib/python3.6/site-packages/torchaudio/backend/utils.py:54: UserWarning: \"sox\" backend is being deprecated. The default backend will be changed to \"sox_io\" backend in 0.8.0 and \"sox\" backend will be removed in 0.9.0. Please migrate to \"sox_io\" backend. Please refer to https://github.com/pytorch/audio/issues/903 for the detail.\n",
      "  '\"sox\" backend is being deprecated. '\n"
     ]
    }
   ],
   "source": [
    "import numpy as np\n",
    "import torch\n",
    "import torch.nn as nn\n",
    "import torch.nn.functional as F\n",
    "import torch.optim as optim\n",
    "import torchaudio\n",
    "import torchvision \n",
    "from tqdm import tqdm\n",
    "from torch.utils.data import DataLoader\n",
    "import matplotlib.pyplot as plt\n",
    "import os\n",
    "import shutil\n",
    "\n",
    "\n",
    "device = 'cpu'\n",
    "if torch.cuda.is_available():\n",
    "  device = 'cuda'\n",
    "  torch.cuda.manual_seed_all(1)"
   ]
  },
  {
   "cell_type": "code",
   "execution_count": 2,
   "metadata": {},
   "outputs": [],
   "source": [
    "basepath = './Cough_dataset/'\n",
    "labeled_path = basepath + 'Labeled_audio/'\n",
    "pos_path = labeled_path + 'Pos/'\n",
    "neg_path = labeled_path + 'Neg/'\n",
    "pos_asymp_path = labeled_path + 'Pos_asymp/'"
   ]
  },
  {
   "cell_type": "code",
   "execution_count": 5,
   "metadata": {},
   "outputs": [],
   "source": [
    "'''\n",
    "We can extract both cough audios recordings from each participant in a single directory.\n",
    "'''\n",
    "\n",
    "positives_path = labeled_path + 'Positives_audios/'\n",
    "if not os.path.exists(positives_path):\n",
    "    os.makedirs(positives_path)\n",
    "\n",
    "for i in os.listdir(pos_path):\n",
    "    if i != '.DS_Store':\n",
    "\n",
    "        participant_path = pos_path + i\n",
    "        \n",
    "        if ('cough-heavy.wav' in os.listdir(participant_path)):\n",
    "            old_path = participant_path + '/cough-heavy.wav'\n",
    "            new_path = positives_path + i + '_cough-heavy.wav'\n",
    "            shutil.copy(old_path, new_path)\n",
    "\n",
    "        if ('cough-shallow.wav' in os.listdir(participant_path)):\n",
    "            old_path = participant_path + '/cough-shallow.wav'\n",
    "            new_path = positives_path + i + '_cough-shallow.wav'\n",
    "            shutil.copy(old_path, new_path)"
   ]
  },
  {
   "cell_type": "code",
   "execution_count": 7,
   "metadata": {},
   "outputs": [],
   "source": [
    "'''\n",
    "We can extract both cough audios recordings from each participant in a single directory.\n",
    "'''\n",
    "\n",
    "negative_path = labeled_path + 'Negative_audios/'\n",
    "if not os.path.exists(negative_path):\n",
    "    os.makedirs(negative_path)\n",
    "\n",
    "for i in os.listdir(neg_path):\n",
    "    if i != '.DS_Store':\n",
    "\n",
    "        participant_path = neg_path + i\n",
    "\n",
    "        if ('cough-heavy.wav' in os.listdir(participant_path)):\n",
    "            old_path = participant_path + '/cough-heavy.wav'\n",
    "            new_path = negative_path + i + '_cough-heavy.wav'\n",
    "            shutil.copy(old_path, new_path)\n",
    "\n",
    "        if ('cough-shallow.wav' in os.listdir(participant_path)):\n",
    "            old_path = participant_path + '/cough-shallow.wav'\n",
    "            new_path = negative_path + i + '_cough-shallow.wav'\n",
    "            shutil.copy(old_path, new_path)"
   ]
  },
  {
   "cell_type": "code",
   "execution_count": 21,
   "metadata": {},
   "outputs": [],
   "source": [
    "'''\n",
    "We can extract both cough audios recordings from each participant in a single directory.\n",
    "'''\n",
    "\n",
    "asymp_path = labeled_path + 'Asymp_audios/'\n",
    "if not os.path.exists(asymp_path):\n",
    "    os.makedirs(asymp_path)\n",
    "\n",
    "for i in os.listdir(pos_asymp_path):\n",
    "\n",
    "    participant_path = pos_asymp_path + i\n",
    "\n",
    "    if ('cough-heavy.wav' in os.listdir(participant_path)):\n",
    "        old_path = participant_path + '/cough-heavy.wav'\n",
    "        new_path = asymp_path + i + '_cough-heavy.wav'\n",
    "        shutil.copy(old_path, new_path)\n",
    "\n",
    "    if ('cough-shallow.wav' in os.listdir(participant_path)):\n",
    "        old_path = participant_path + '/cough-shallow.wav'\n",
    "        new_path = asymp_path + i + '_cough-shallow.wav'\n",
    "        shutil.copy(old_path, new_path)"
   ]
  },
  {
   "cell_type": "code",
   "execution_count": 8,
   "metadata": {},
   "outputs": [],
   "source": [
    "labeled_path = './Cough_dataset/Labeled_audio/cough/'\n",
    "# move folders to new dir"
   ]
  },
  {
   "cell_type": "code",
   "execution_count": 10,
   "metadata": {},
   "outputs": [
    {
     "data": {
      "text/plain": [
       "\"\\nmax_len = int(len(os.listdir(asymp_path))*0.7)\\nfor i in os.listdir(asymp_path):\\n\\n    len_train = len(os.listdir(train_path + 'asymp/'))\\n    old_path = asymp_path + i\\n\\n    if (len_train >= max_len):\\n        new_path = test_path + 'asymp/' + i\\n        shutil.move(old_path, new_path)\\n    else:\\n        new_path = train_path + 'asymp/' + i\\n        shutil.move(old_path, new_path)\\n\\n    if len(os.listdir(asymp_path)) == 0:\\n        os.rmdir(asymp_path)\\n\""
      ]
     },
     "execution_count": 10,
     "metadata": {},
     "output_type": "execute_result"
    }
   ],
   "source": [
    "train_path = labeled_path + 'TRAIN/'\n",
    "test_path = labeled_path + 'TEST/'\n",
    "\n",
    "if not os.path.exists(train_path):\n",
    "    os.makedirs(train_path)\n",
    "    os.makedirs(train_path + 'covid/')\n",
    "    os.makedirs(train_path + 'no_covid/')\n",
    "    #os.makedirs(train_path + 'asymp/')\n",
    "\n",
    "\n",
    "if not os.path.exists(test_path):\n",
    "    os.makedirs(test_path)\n",
    "    os.makedirs(test_path + 'covid/')\n",
    "    os.makedirs(test_path + 'no_covid/')\n",
    "    #os.makedirs(test_path + 'asymp/')\n",
    "    \n",
    "# The partition of the data is defined as 70%\n",
    "len(os.listdir(labeled_path + 'Positives_audios'))\n",
    "covid_path = labeled_path + 'Positives_audios/'\n",
    "\n",
    "len(os.listdir(labeled_path + 'Negative_audios'))\n",
    "nocovid_path = labeled_path + 'Negative_audios/'\n",
    "\n",
    "#len(os.listdir(labeled_path + 'Asymp_audios'))\n",
    "#asymp_path = labeled_path + 'Asymp_audios/'\n",
    "\n",
    "max_len = int(len(os.listdir(covid_path))*0.7)\n",
    "for i in os.listdir(covid_path):\n",
    "\n",
    "    len_train = len(os.listdir(train_path + 'covid/'))\n",
    "    old_path = covid_path + i\n",
    "\n",
    "    if (len_train >= max_len):\n",
    "        new_path = test_path + 'covid/' + i\n",
    "        shutil.move(old_path, new_path)\n",
    "    else:\n",
    "        new_path = train_path + 'covid/' + i\n",
    "        shutil.move(old_path, new_path)\n",
    "\n",
    "    if len(os.listdir(covid_path)) == 0:\n",
    "        os.rmdir(covid_path)\n",
    "        \n",
    "max_len = int(len(os.listdir(nocovid_path))*0.7)\n",
    "for i in os.listdir(nocovid_path):\n",
    "\n",
    "    len_train = len(os.listdir(train_path + 'no_covid/'))\n",
    "    old_path = nocovid_path + i\n",
    "\n",
    "    if (len_train >= max_len):\n",
    "        new_path = test_path + 'no_covid/' + i\n",
    "        shutil.move(old_path, new_path)\n",
    "    else:\n",
    "        new_path = train_path + 'no_covid/' + i\n",
    "        shutil.move(old_path, new_path)\n",
    "\n",
    "    if len(os.listdir(nocovid_path)) == 0:\n",
    "        os.rmdir(nocovid_path)\n",
    "\n",
    "'''\n",
    "max_len = int(len(os.listdir(asymp_path))*0.7)\n",
    "for i in os.listdir(asymp_path):\n",
    "\n",
    "    len_train = len(os.listdir(train_path + 'asymp/'))\n",
    "    old_path = asymp_path + i\n",
    "\n",
    "    if (len_train >= max_len):\n",
    "        new_path = test_path + 'asymp/' + i\n",
    "        shutil.move(old_path, new_path)\n",
    "    else:\n",
    "        new_path = train_path + 'asymp/' + i\n",
    "        shutil.move(old_path, new_path)\n",
    "\n",
    "    if len(os.listdir(asymp_path)) == 0:\n",
    "        os.rmdir(asymp_path)\n",
    "'''"
   ]
  },
  {
   "cell_type": "code",
   "execution_count": null,
   "metadata": {},
   "outputs": [],
   "source": [
    "#anxufa totes les noves carpetes a una carpeta que se digue cough"
   ]
  }
 ],
 "metadata": {
  "kernelspec": {
   "display_name": "Python 3",
   "language": "python",
   "name": "python3"
  },
  "language_info": {
   "codemirror_mode": {
    "name": "ipython",
    "version": 3
   },
   "file_extension": ".py",
   "mimetype": "text/x-python",
   "name": "python",
   "nbconvert_exporter": "python",
   "pygments_lexer": "ipython3",
   "version": "3.6.8"
  }
 },
 "nbformat": 4,
 "nbformat_minor": 2
}
